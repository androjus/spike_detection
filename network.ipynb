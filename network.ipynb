{
 "cells": [
  {
   "cell_type": "code",
   "execution_count": 1,
   "metadata": {},
   "outputs": [
    {
     "data": {
      "text/plain": [
       "True"
      ]
     },
     "execution_count": 1,
     "metadata": {},
     "output_type": "execute_result"
    }
   ],
   "source": [
    "import torch\n",
    "torch.cuda.is_available()"
   ]
  },
  {
   "cell_type": "code",
   "execution_count": 2,
   "metadata": {},
   "outputs": [],
   "source": [
    "import torch\n",
    "from torch.utils.data import DataLoader, Dataset\n",
    "import torch.nn as nn\n",
    "import torch.nn.functional as F\n",
    "from sklearn import metrics\n",
    "from tqdm import tqdm\n",
    "import numpy as np\n",
    "import pandas as pd\n",
    "from torch.optim import Adam\n",
    "import matplotlib.pyplot as plt"
   ]
  },
  {
   "cell_type": "code",
   "execution_count": 3,
   "metadata": {},
   "outputs": [],
   "source": [
    "device = 'cuda:0' if torch.cuda.is_available() else 'cpu'"
   ]
  },
  {
   "attachments": {},
   "cell_type": "markdown",
   "metadata": {},
   "source": [
    "## Data"
   ]
  },
  {
   "cell_type": "code",
   "execution_count": 5,
   "metadata": {},
   "outputs": [],
   "source": [
    "class SpikeDataset(Dataset):\n",
    "    def __init__(self, X_data, y_data):\n",
    "        self.X_data = X_data\n",
    "        self.y_data = nn.functional.one_hot(y_data.to(torch.int64), num_classes=2)\n",
    "        \n",
    "    def __getitem__(self, index):\n",
    "        return self.X_data[index], self.y_data[index]\n",
    "        \n",
    "    def __len__ (self):\n",
    "        return len(self.y_data)"
   ]
  },
  {
   "cell_type": "code",
   "execution_count": 6,
   "metadata": {},
   "outputs": [],
   "source": [
    "train_data = pd.read_csv(\"train.csv\", header=None)\n",
    "\n",
    "train_data = train_data.fillna(0)\n",
    "\n",
    "#train_data = train_data.sample(frac=1, random_state=1)\n",
    "\n",
    "x = train_data.iloc[:, :48].values.tolist()\n",
    "y = np.squeeze(train_data.iloc[:, 48:].astype(int).values.tolist())\n",
    "\n",
    "train = SpikeDataset(torch.FloatTensor(x),\n",
    "                     torch.Tensor(y)\n",
    ")"
   ]
  },
  {
   "attachments": {},
   "cell_type": "markdown",
   "metadata": {},
   "source": [
    "## Model"
   ]
  },
  {
   "cell_type": "code",
   "execution_count": 7,
   "metadata": {},
   "outputs": [],
   "source": [
    "class SpikeNet(nn.Module):\n",
    "    def __init__(self, in_channels=1, out_channels=2):\n",
    "        super(SpikeNet, self).__init__()\n",
    "        self.hidden = 32\n",
    "        self.net = nn.Sequential(\n",
    "            nn.Conv1d(1, 48, 5, padding=2),\n",
    "            nn.Conv1d(48, self.hidden, 16, stride=16),\n",
    "            nn.LeakyReLU(0.1),\n",
    "            nn.Conv1d(self.hidden, self.hidden, 7, padding=3),\n",
    "        )\n",
    "        \n",
    "        for i in range(6):\n",
    "            self.net.add_module('conv{}'.format(i), self.__block(self.hidden, self.hidden))\n",
    "\n",
    "        self.net.add_module('final', nn.Sequential(\n",
    "            nn.Conv1d(self.hidden, out_channels, 3),\n",
    "            nn.Sigmoid()\n",
    "        ))\n",
    "        \n",
    "    def __block(self, inchannels, outchannels):\n",
    "        return nn.Sequential(\n",
    "            nn.Dropout(p=0.1, inplace=True),\n",
    "            nn.Conv1d(inchannels, outchannels, 5, padding=2),\n",
    "            nn.LeakyReLU(0.1),\n",
    "            nn.Conv1d(outchannels, outchannels, 5, padding=2),\n",
    "            nn.LeakyReLU(0.1),\n",
    "        )\n",
    "    \n",
    "    def forward(self, x):\n",
    "        return self.net(x)"
   ]
  },
  {
   "attachments": {},
   "cell_type": "markdown",
   "metadata": {},
   "source": [
    "## Train"
   ]
  },
  {
   "cell_type": "code",
   "execution_count": 8,
   "metadata": {},
   "outputs": [
    {
     "name": "stdout",
     "output_type": "stream",
     "text": [
      "(9762, 49)\n"
     ]
    }
   ],
   "source": [
    "train_loader = DataLoader(dataset=train, batch_size=1, shuffle=True)\n",
    "\n",
    "test_data = pd.read_csv(\"test.csv\", header=None)\n",
    "\n",
    "print(test_data.shape)\n",
    "\n",
    "x_test = test_data.iloc[:, :48].values.tolist()\n",
    "y_test = np.squeeze(test_data.iloc[:, 48:].astype(int).values.tolist())\n",
    "\n",
    "test = SpikeDataset(\n",
    "    torch.FloatTensor(x_test),\n",
    "    torch.Tensor(y_test)\n",
    ")\n",
    "\n",
    "test_loader = DataLoader(dataset=test, batch_size=1)"
   ]
  },
  {
   "cell_type": "code",
   "execution_count": 9,
   "metadata": {},
   "outputs": [
    {
     "name": "stdout",
     "output_type": "stream",
     "text": [
      "torch.Size([1, 48]) torch.Size([1, 2])\n",
      "tensor([[0, 1]])\n",
      "1\n"
     ]
    }
   ],
   "source": [
    "for X, Y in train_loader:\n",
    "    print(X.shape, Y.shape)\n",
    "    tensor = list(Y[0].to(torch.float32))\n",
    "    print(Y)\n",
    "    value = tensor.index(max(tensor))\n",
    "    print(value)\n",
    "    break"
   ]
  },
  {
   "cell_type": "code",
   "execution_count": 19,
   "metadata": {},
   "outputs": [],
   "source": [
    "Y_shuffled_all = []\n",
    "Y_preds_all = []\n",
    "Y_preds_sc_all = []"
   ]
  },
  {
   "cell_type": "code",
   "execution_count": 20,
   "metadata": {},
   "outputs": [],
   "source": [
    "from tqdm import tqdm\n",
    "from sklearn.metrics import accuracy_score\n",
    "\n",
    "def CalcValLossAndAccuracy(model, loss_fn, val_loader):\n",
    "    with torch.no_grad():\n",
    "        Y_shuffled, Y_preds, losses = [],[],[]\n",
    "        for X, Y in val_loader:\n",
    "            preds = model(X)\n",
    "\n",
    "            loss = loss_fn(preds.squeeze(dim=-1), Y[0].to(torch.float32))\n",
    "            losses.append(loss.item())\n",
    "            \n",
    "            tensor_pred = list(preds.squeeze(dim=-1))\n",
    "            tensor_y = list(Y[0].to(torch.float32))\n",
    "\n",
    "            Y_shuffled.append(tensor_y.index(max(tensor_y)))\n",
    "            Y_preds.append(tensor_pred.index(max(tensor_pred)))\n",
    "            Y_preds_sc_all.append(max(tensor_pred))\n",
    "        Y_shuffled_all.append(Y_shuffled)\n",
    "        Y_preds_all.append(Y_preds)\n",
    "        print(\"Valid Loss : {:.3f}\".format(torch.tensor(losses).mean()))\n",
    "        print(\"Valid Acc  : {:.3f}\".format(accuracy_score(Y_shuffled, Y_preds)))"
   ]
  },
  {
   "cell_type": "code",
   "execution_count": 21,
   "metadata": {},
   "outputs": [],
   "source": [
    "loss_his = []"
   ]
  },
  {
   "cell_type": "code",
   "execution_count": 22,
   "metadata": {},
   "outputs": [],
   "source": [
    "def TrainModel(model, loss_fn, optimizer, train_loader, val_loader, epochs=10):\n",
    "    for i in range(1, epochs+1):\n",
    "        losses = []\n",
    "        losses_last = []\n",
    "        iter = 0\n",
    "        for X, Y in tqdm(train_loader):\n",
    "            Y_preds = model(X)\n",
    "\n",
    "            loss = loss_fn(Y_preds.squeeze(dim=-1), Y[0].to(torch.float32))\n",
    "            losses.append(loss.item())\n",
    "            losses_last.append(loss.item())\n",
    "\n",
    "            optimizer.zero_grad()\n",
    "            loss.backward()\n",
    "            optimizer.step()\n",
    "            iter +=1\n",
    "            if iter % 50 == 0:\n",
    "                loss_his.append(torch.tensor(losses_last).mean())\n",
    "                losses_last.clear()\n",
    "\n",
    "\n",
    "        print(\"Train Loss : {:.3f}\".format(torch.tensor(losses).mean()))\n",
    "        CalcValLossAndAccuracy(model, loss_fn, val_loader)\n",
    "        torch.save(model.state_dict(), f\"out/modelv2-ep-{i}.pt\")"
   ]
  },
  {
   "cell_type": "code",
   "execution_count": null,
   "metadata": {},
   "outputs": [],
   "source": [
    "epochs = 1\n",
    "learning_rate = 1e-3\n",
    "\n",
    "loss_fn = nn.BCELoss()\n",
    "conv_classifier = SpikeNet()\n",
    "optimizer = Adam(conv_classifier.parameters(), lr=learning_rate)\n",
    "\n",
    "Y_shuffled_all = []\n",
    "Y_preds_all = []\n",
    "Y_preds_sc_all = []\n",
    "\n",
    "TrainModel(conv_classifier, loss_fn, optimizer, train_loader, test_loader, epochs)"
   ]
  },
  {
   "cell_type": "code",
   "execution_count": 38,
   "metadata": {},
   "outputs": [],
   "source": [
    "index = 0"
   ]
  },
  {
   "cell_type": "code",
   "execution_count": 39,
   "metadata": {},
   "outputs": [
    {
     "data": {
      "text/plain": [
       "0.9735709895513215"
      ]
     },
     "execution_count": 39,
     "metadata": {},
     "output_type": "execute_result"
    }
   ],
   "source": [
    "accuracy_score(Y_shuffled_all[index], Y_preds_all[index])"
   ]
  },
  {
   "cell_type": "code",
   "execution_count": 17,
   "metadata": {},
   "outputs": [
    {
     "data": {
      "image/png": "[encoded data removed]",
      "text/plain": [
       "<Figure size 640x480 with 2 Axes>"
      ]
     },
     "metadata": {},
     "output_type": "display_data"
    }
   ],
   "source": [
    "cm = metrics.confusion_matrix(Y_shuffled_all[index],Y_preds_all[index])\n",
    "\n",
    "pcm = metrics.ConfusionMatrixDisplay(confusion_matrix=cm)\n",
    "pcm.plot()\n",
    "plt.show()"
   ]
  }
 ],
 "metadata": {
  "kernelspec": {
   "display_name": "torch",
   "language": "python",
   "name": "python3"
  },
  "language_info": {
   "codemirror_mode": {
    "name": "ipython",
    "version": 3
   },
   "file_extension": ".py",
   "mimetype": "text/x-python",
   "name": "python",
   "nbconvert_exporter": "python",
   "pygments_lexer": "ipython3",
   "version": "3.9.15"
  },
  "orig_nbformat": 4,
  "vscode": {
   "interpreter": {
    "hash": "79d6392fcf4b56bca34684a0f418c0ab7be93487151e83474d06a7fb455bdbcc"
   }
  }
 },
 "nbformat": 4,
 "nbformat_minor": 2
}
